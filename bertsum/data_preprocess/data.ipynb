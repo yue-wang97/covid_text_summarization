{
 "metadata": {
  "language_info": {
   "codemirror_mode": {
    "name": "ipython",
    "version": 3
   },
   "file_extension": ".py",
   "mimetype": "text/x-python",
   "name": "python",
   "nbconvert_exporter": "python",
   "pygments_lexer": "ipython3",
   "version": "3.8.8"
  },
  "orig_nbformat": 2,
  "kernelspec": {
   "name": "pythonjvsc74a57bd0611d748c26ab5f59e9a6ea014df8ca199e1d9c27f43edb2d241f6f79e5fb3637",
   "display_name": "Python 3.8.8  ('bertsumenv': venv)"
  },
  "metadata": {
   "interpreter": {
    "hash": "611d748c26ab5f59e9a6ea014df8ca199e1d9c27f43edb2d241f6f79e5fb3637"
   }
  }
 },
 "nbformat": 4,
 "nbformat_minor": 2,
 "cells": [
  {
   "cell_type": "code",
   "execution_count": 14,
   "metadata": {},
   "outputs": [],
   "source": [
    "import numpy as np # linear algebra\n",
    "import pandas as pd # data processing, CSV file I/O (e.g. pd.read_csv)\n",
    "import nltk\n",
    "from nltk.tokenize import sent_tokenize"
   ]
  },
  {
   "cell_type": "code",
   "execution_count": 7,
   "metadata": {},
   "outputs": [],
   "source": [
    "def write_into_story(i,source,target,folder):\n",
    "    with open ('./'+folder+'_data/'+str(i)+'.story', \"w\") as file:\n",
    "        #split the text\n",
    "        txt = sent_tokenize(source)\n",
    "        for txt_sentence in txt:\n",
    "            file.write(\"%s\\n\\n\" % txt_sentence)\n",
    "        #split abstract\n",
    "        ab = sent_tokenize(target)\n",
    "        for ab_sentence in ab:\n",
    "            file.write(\"@highlight\\n\\n%s\\n\\n\" % ab_sentence[:-1])\n"
   ]
  },
  {
   "cell_type": "code",
   "execution_count": 10,
   "metadata": {},
   "outputs": [],
   "source": [
    "#read train, test, eval\n",
    "folders = ['train','test','val']\n",
    "for folder in folders:\n",
    "    file_source = open('./bert_data/'+ folder +'.source', 'r')\n",
    "    file_target = open('./bert_data/'+ folder +'.target', 'r')\n",
    "    \n",
    "    source_lines = file_source.readlines()\n",
    "    target_lines = file_target.readlines()\n",
    "\n",
    "    for i in range(len(source_lines)):\n",
    "        write_into_story(i, source_lines[i], target_lines[i], folder)\n",
    "\n",
    "    file_source.close()\n",
    "    file_target.close()"
   ]
  }
 ]
}